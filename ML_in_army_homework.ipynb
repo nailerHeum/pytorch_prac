{
  "nbformat": 4,
  "nbformat_minor": 0,
  "metadata": {
    "colab": {
      "name": "ML_in_army_homework.ipynb",
      "provenance": [],
      "collapsed_sections": [],
      "authorship_tag": "ABX9TyM/ZEtWsh7svdnPrMN99NYh",
      "include_colab_link": true
    },
    "kernelspec": {
      "name": "python3",
      "display_name": "Python 3"
    }
  },
  "cells": [
    {
      "cell_type": "markdown",
      "metadata": {
        "id": "view-in-github",
        "colab_type": "text"
      },
      "source": [
        "<a href=\"https://colab.research.google.com/github/nailerHeum/pytorch_prac/blob/main/ML_in_army_homework.ipynb\" target=\"_parent\"><img src=\"https://colab.research.google.com/assets/colab-badge.svg\" alt=\"Open In Colab\"/></a>"
      ]
    },
    {
      "cell_type": "code",
      "metadata": {
        "colab": {
          "base_uri": "https://localhost:8080/"
        },
        "id": "7WsnqGBQ7A1K",
        "outputId": "a4f15041-d96d-4ecd-e362-c66129739ee3"
      },
      "source": [
        "from google.colab import drive\n",
        "drive.mount('/gdrive')"
      ],
      "execution_count": null,
      "outputs": [
        {
          "output_type": "stream",
          "text": [
            "Mounted at /gdrive\n"
          ],
          "name": "stdout"
        }
      ]
    },
    {
      "cell_type": "code",
      "metadata": {
        "colab": {
          "base_uri": "https://localhost:8080/"
        },
        "id": "cGT9Xz5V7XcI",
        "outputId": "01c87cb2-e97d-41ff-e93a-ed75df46340b"
      },
      "source": [
        "import os\n",
        "os.listdir('/gdrive/MyDrive')"
      ],
      "execution_count": null,
      "outputs": [
        {
          "output_type": "execute_result",
          "data": {
            "text/plain": [
              "['도구함',\n",
              " 'Google 포토',\n",
              " 'codeLion(중요 문서)',\n",
              " '이의신청증빙서류',\n",
              " 'ADHOC',\n",
              " '강의자료',\n",
              " '클래식기타',\n",
              " '수원시민자치대학_2019_06_08.md',\n",
              " '통장사본_기사자격증.pdf',\n",
              " '증명',\n",
              " '최성흠_이력서.pdf',\n",
              " 'Colab Notebooks',\n",
              " '제목 없는 문서.gdoc',\n",
              " '4월17일최성흠.gdoc',\n",
              " '성격유형.png',\n",
              " '입영통지서.pdf',\n",
              " 'nsmc-master.zip',\n",
              " 'nsmc-master',\n",
              " 'foo.txt',\n",
              " 'nsmc']"
            ]
          },
          "metadata": {
            "tags": []
          },
          "execution_count": 3
        }
      ]
    },
    {
      "cell_type": "code",
      "metadata": {
        "colab": {
          "base_uri": "https://localhost:8080/"
        },
        "id": "0doGPItH7A1M",
        "outputId": "a9eff392-9b01-41f7-cbdd-70ea369e8d25"
      },
      "source": [
        "with open('/gdrive/My Drive/nsmc/ratings_train.txt', 'r') as f:\n",
        "  count = 0\n",
        "  for line in f:\n",
        "    line = line.strip() #trim 양쪽 끝 space, tab이런거 다지움\n",
        "    tokens = line.split('\\t')\n",
        "    print(tokens)\n",
        "    count += 1\n",
        "    if count > 10:\n",
        "      break"
      ],
      "execution_count": null,
      "outputs": [
        {
          "output_type": "stream",
          "text": [
            "['id', 'document', 'label']\n",
            "['9976970', '아 더빙.. 진짜 짜증나네요 목소리', '0']\n",
            "['3819312', '흠...포스터보고 초딩영화줄....오버연기조차 가볍지 않구나', '1']\n",
            "['10265843', '너무재밓었다그래서보는것을추천한다', '0']\n",
            "['9045019', '교도소 이야기구먼 ..솔직히 재미는 없다..평점 조정', '0']\n",
            "['6483659', '사이몬페그의 익살스런 연기가 돋보였던 영화!스파이더맨에서 늙어보이기만 했던 커스틴 던스트가 너무나도 이뻐보였다', '1']\n",
            "['5403919', '막 걸음마 뗀 3세부터 초등학교 1학년생인 8살용영화.ㅋㅋㅋ...별반개도 아까움.', '0']\n",
            "['7797314', '원작의 긴장감을 제대로 살려내지못했다.', '0']\n",
            "['9443947', '별 반개도 아깝다 욕나온다 이응경 길용우 연기생활이몇년인지..정말 발로해도 그것보단 낫겟다 납치.감금만반복반복..이드라마는 가족도없다 연기못하는사람만모엿네', '0']\n",
            "['7156791', '액션이 없는데도 재미 있는 몇안되는 영화', '1']\n",
            "['5912145', '왜케 평점이 낮은건데? 꽤 볼만한데.. 헐리우드식 화려함에만 너무 길들여져 있나?', '1']\n"
          ],
          "name": "stdout"
        }
      ]
    },
    {
      "cell_type": "code",
      "metadata": {
        "id": "82ffn3Xn7e4H",
        "colab": {
          "base_uri": "https://localhost:8080/"
        },
        "outputId": "4ef7a19a-9d04-41fa-b546-690dc9cb3b0b"
      },
      "source": [
        "# HOMEWORK 1\n",
        "# https://wikidocs.net/book/2788 참고 자료 (파이토치로 시작하는 딥 러닝 입문)\n",
        "from collections import Counter\n",
        "import re\n",
        "\n",
        "labels = []\n",
        "vocab ={}\n",
        "sentences = []\n",
        "\n",
        "word_list = []\n",
        "with open('/gdrive/My Drive/nsmc/ratings_train.txt', 'r') as f:\n",
        "  next(f)\n",
        "  for line in f:\n",
        "    line = line.strip()\n",
        "    columns = line.split('\\t')\n",
        "    simplified_word = re.sub(r'[.*!?]+', ' ', columns[1])\n",
        "    sentences.append(simplified_word.split())\n",
        "    word_list += simplified_word.split()\n",
        "    labels.append(int(columns[2]))\n",
        "\n",
        "counter = Counter()\n",
        "for word in word_list:\n",
        "  counter[word] += 1\n",
        "\n",
        "for i, [v, cnt] in enumerate(counter.most_common(10000), start=2):\n",
        "  vocab[v] = i\n",
        "\n",
        "vocab['[PAD]'] = 0\n",
        "vocab['[UNK]'] = 1\n",
        "\n",
        "word2idx = []\n",
        "max_length = len(sorted(sentences, key=lambda x: len(x))[-1])\n",
        "print(max_length)\n",
        "for sentence in sentences:\n",
        "  word2idx.append([])\n",
        "  for word in sentence:\n",
        "    try:\n",
        "      word2idx[-1].append(vocab[word])\n",
        "    except:\n",
        "      word2idx[-1].append(vocab['[UNK]'])\n",
        "  word2idx[-1] += [vocab['[PAD]']] * (max_length - len(word2idx[-1]))\n",
        "print(word2idx[1], len(word2idx[1]))"
      ],
      "execution_count": 23,
      "outputs": [
        {
          "output_type": "stream",
          "text": [
            "45\n",
            "[636, 6253, 1, 1, 6907, 1, 0, 0, 0, 0, 0, 0, 0, 0, 0, 0, 0, 0, 0, 0, 0, 0, 0, 0, 0, 0, 0, 0, 0, 0, 0, 0, 0, 0, 0, 0, 0, 0, 0, 0, 0, 0, 0, 0, 0] 45\n"
          ],
          "name": "stdout"
        }
      ]
    },
    {
      "cell_type": "code",
      "metadata": {
        "id": "47xhN2YCduWB",
        "colab": {
          "base_uri": "https://localhost:8080/",
          "height": 36
        },
        "outputId": "100599aa-54a2-43af-a90d-a91408193b08"
      },
      "source": [
        "import re\n",
        "\n",
        "test_str = \"영화...!좋아...?! 싫어\"\n",
        "re.sub(r'[.*!?]+', ' ', test_str)"
      ],
      "execution_count": 20,
      "outputs": [
        {
          "output_type": "execute_result",
          "data": {
            "application/vnd.google.colaboratory.intrinsic+json": {
              "type": "string"
            },
            "text/plain": [
              "'영화 좋아  싫어'"
            ]
          },
          "metadata": {
            "tags": []
          },
          "execution_count": 20
        }
      ]
    },
    {
      "cell_type": "code",
      "metadata": {
        "id": "OPzStJq0u3Cv"
      },
      "source": [
        ""
      ],
      "execution_count": null,
      "outputs": []
    }
  ]
}